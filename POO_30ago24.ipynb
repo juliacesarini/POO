{
  "nbformat": 4,
  "nbformat_minor": 0,
  "metadata": {
    "colab": {
      "provenance": [],
      "authorship_tag": "ABX9TyPhCDK1O+dUpWh+3mkBfykf",
      "include_colab_link": true
    },
    "kernelspec": {
      "name": "python3",
      "display_name": "Python 3"
    },
    "language_info": {
      "name": "python"
    }
  },
  "cells": [
    {
      "cell_type": "markdown",
      "metadata": {
        "id": "view-in-github",
        "colab_type": "text"
      },
      "source": [
        "<a href=\"https://colab.research.google.com/github/juliacesarini/POO/blob/main/POO_30ago24.ipynb\" target=\"_parent\"><img src=\"https://colab.research.google.com/assets/colab-badge.svg\" alt=\"Open In Colab\"/></a>"
      ]
    },
    {
      "cell_type": "code",
      "execution_count": null,
      "metadata": {
        "id": "A2Rnr2Ywe3pq"
      },
      "outputs": [],
      "source": []
    },
    {
      "cell_type": "markdown",
      "source": [
        "Ex.1) Converter F para C OBS: Entrada F Processamento: C = (5/9)(F-32) Saída: C\n"
      ],
      "metadata": {
        "id": "yBJAym02fGg_"
      }
    },
    {
      "cell_type": "code",
      "source": [
        "F = float(input(\"Digite valor em graus farenheit: \"))\n",
        "C = (5/9)*(F -32)\n",
        "print(f\"O valor em {F}º F corresponde valor ao de {C} Cº\")"
      ],
      "metadata": {
        "colab": {
          "base_uri": "https://localhost:8080/"
        },
        "id": "dR8KFTRGfgb-",
        "outputId": "70a1d227-1987-476a-a538-d11cdbd6555c"
      },
      "execution_count": 6,
      "outputs": [
        {
          "output_type": "stream",
          "name": "stdout",
          "text": [
            "Digite valor em graus farenheit: 50\n",
            "O valor em 50.0º F corresponde valor ao de 10.0 Cº\n"
          ]
        }
      ]
    }
  ]
}