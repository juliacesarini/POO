{
  "nbformat": 4,
  "nbformat_minor": 0,
  "metadata": {
    "colab": {
      "provenance": [],
      "authorship_tag": "ABX9TyN6kM6kO+iCi010hHoJSgvb",
      "include_colab_link": true
    },
    "kernelspec": {
      "name": "python3",
      "display_name": "Python 3"
    },
    "language_info": {
      "name": "python"
    }
  },
  "cells": [
    {
      "cell_type": "markdown",
      "metadata": {
        "id": "view-in-github",
        "colab_type": "text"
      },
      "source": [
        "<a href=\"https://colab.research.google.com/github/juliacesarini/POO/blob/main/POO_30ago24.ipynb\" target=\"_parent\"><img src=\"https://colab.research.google.com/assets/colab-badge.svg\" alt=\"Open In Colab\"/></a>"
      ]
    },
    {
      "cell_type": "code",
      "execution_count": null,
      "metadata": {
        "id": "A2Rnr2Ywe3pq"
      },
      "outputs": [],
      "source": []
    },
    {
      "cell_type": "markdown",
      "source": [
        "##Ex1) Converter F para C\n",
        "\n",
        "\n",
        "\n",
        "\n",
        "**OBS:** Entrada F Processamento: C = (5/9)(F-32) Saída: C\n"
      ],
      "metadata": {
        "id": "yBJAym02fGg_"
      }
    },
    {
      "cell_type": "code",
      "source": [
        "F = float(input(\"Digite valor em graus farenheit: \"))\n",
        "C = (5/9)*(F -32)\n",
        "print(f\"O valor em {F}º F corresponde valor ao de {C} Cº\")"
      ],
      "metadata": {
        "colab": {
          "base_uri": "https://localhost:8080/"
        },
        "id": "dR8KFTRGfgb-",
        "outputId": "7787f807-59be-4264-a7ae-62b574f2f407"
      },
      "execution_count": 7,
      "outputs": [
        {
          "output_type": "stream",
          "name": "stdout",
          "text": [
            "Digite valor em graus farenheit: 50\n",
            "O valor em 50.0º F corresponde valor ao de 10.0 Cº\n"
          ]
        }
      ]
    },
    {
      "cell_type": "markdown",
      "source": [
        "EX2) Converter polegadas em mm\n",
        "\n",
        "Entrada P\n",
        "\n",
        "Processamento: mm=p*25.4\n",
        "\n",
        "Saída: mm"
      ],
      "metadata": {
        "id": "3YjkU7UtjwUs"
      }
    },
    {
      "cell_type": "code",
      "source": [
        "P = float(input(\"digite valor em polegadas: \"))\n",
        "MM= P*25.4\n",
        "print(f\"O valor de {P}pol corresponde ao valor de {MM}mm\")"
      ],
      "metadata": {
        "colab": {
          "base_uri": "https://localhost:8080/"
        },
        "id": "CbqBP2BFkJLO",
        "outputId": "026ed917-8b5f-4251-aa10-1ebaeb941f82"
      },
      "execution_count": 9,
      "outputs": [
        {
          "output_type": "stream",
          "name": "stdout",
          "text": [
            "digite valor em polegadas: 35\n",
            "O valor de 35.0pol corresponde ao valor de 889.0mm\n"
          ]
        }
      ]
    },
    {
      "cell_type": "markdown",
      "source": [
        "EX3) Coverter mm em polegadas\n",
        "\n",
        "Entrada mm\n",
        "\n",
        "Processamento = P=mm/25.4\n",
        "\n",
        "Saída P"
      ],
      "metadata": {
        "id": "f62RgWQDmqWy"
      }
    },
    {
      "cell_type": "code",
      "source": [
        "MM= float(input(\"digite valor em MM: \"))\n",
        "P= MM/25.4\n",
        "print(f\"O valor de {MM}mm corresponde ao valor de {P}pol\")"
      ],
      "metadata": {
        "colab": {
          "base_uri": "https://localhost:8080/"
        },
        "id": "qgFzxmSLnc10",
        "outputId": "e593bb4f-e62e-4c8f-88ae-995def5c1583"
      },
      "execution_count": 14,
      "outputs": [
        {
          "output_type": "stream",
          "name": "stdout",
          "text": [
            "digite valor em MM: 22\n",
            "O valor de 22.0mm corresponde ao valor de 0.8661417322834646pol\n"
          ]
        }
      ]
    },
    {
      "cell_type": "markdown",
      "source": [
        "#PROGAMA VERIFICADOR DE IDADE PARA VOTAÇÃO\n"
      ],
      "metadata": {
        "id": "NM6wyQn6pC4T"
      }
    },
    {
      "cell_type": "code",
      "source": [
        "#ETRADA: Idade\n",
        "#SAÍDA: \"Pode votar ou não\"\n",
        "\n",
        "idade= int(input(\"digite sua idade: \"))\n",
        "if idade >= 18:\n",
        "                 print(\"Pode votar\")\n",
        "else:\n",
        "                 print(\"Não pode votar\")"
      ],
      "metadata": {
        "colab": {
          "base_uri": "https://localhost:8080/"
        },
        "id": "0Tsav-J2pMwq",
        "outputId": "89a63809-b54b-4c17-e1f8-2609d21e6251"
      },
      "execution_count": 16,
      "outputs": [
        {
          "output_type": "stream",
          "name": "stdout",
          "text": [
            "digite sua idade: 35\n",
            "Pode votar\n"
          ]
        }
      ]
    }
  ]
}